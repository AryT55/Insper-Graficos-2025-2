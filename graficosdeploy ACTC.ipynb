{
 "cells": [
  {
   "cell_type": "code",
   "execution_count": null,
   "id": "10db5937",
   "metadata": {},
   "outputs": [],
   "source": [
    "import matplotlib.pyplot as plt\n",
    "import numpy as np\n",
    "\n",
    "fig, (ax1, ax2) = plt.subplots(2, 1, layout='constrained')\n",
    "\n",
    "dt = 0.01\n",
    "t = np.arange(0, 30, dt)\n",
    "\n",
    "# Fixing random state for reproducibility\n",
    "np.random.seed(19680801)\n",
    "\n",
    "\n",
    "nse1 = np.random.randn(len(t))                 # white noise 1\n",
    "nse2 = np.random.randn(len(t))                 # white noise 2\n",
    "r = np.exp(-t / 0.05)\n",
    "\n",
    "cnse1 = np.convolve(nse1, r, mode='same') * dt   # colored noise 1\n",
    "cnse2 = np.convolve(nse2, r, mode='same') * dt   # colored noise 2\n",
    "\n",
    "# two signals with a coherent part and a random part\n",
    "s1 = 0.01 * np.sin(2 * np.pi * 10 * t) + cnse1\n",
    "s2 = 0.01 * np.sin(2 * np.pi * 10 * t) + cnse2\n",
    "\n",
    "ax1.plot(t, s1, t, s2)\n",
    "ax1.set_xlim(0, 5)\n",
    "ax1.set_xlabel('Time (s)')\n",
    "ax1.set_ylabel('s1 and s2')\n",
    "ax1.grid(True)\n",
    "\n",
    "cxy, f = ax2.csd(s1, s2, NFFT=256, Fs=1. / dt)\n",
    "ax2.set_ylabel('CSD (dB)')\n",
    "\n",
    "plt.show()"
   ]
  }
 ],
 "metadata": {
  "language_info": {
   "name": "python"
  }
 },
 "nbformat": 4,
 "nbformat_minor": 5
}
